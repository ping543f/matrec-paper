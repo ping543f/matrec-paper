{
 "cells": [
  {
   "cell_type": "markdown",
   "metadata": {},
   "source": [
    "### Total number of unique words in dataset: 1550\n",
    "### List of tags: B-val, B-mat, I-electrolyte, B-electrolyte, I-mat, B-morph, I-proc, O, I-val, I-morph, B-proc\n",
    "### Total Number of tags 11 including O tag"
   ]
  },
  {
   "cell_type": "code",
   "execution_count": 1,
   "metadata": {},
   "outputs": [],
   "source": [
    "#imports\n",
    "import pandas as pd\n",
    "import numpy as np\n",
    "import matplotlib.pyplot as plt\n",
    "from sklearn.model_selection import train_test_split\n",
    "from keras.preprocessing.sequence import pad_sequences\n",
    "from keras.utils import to_categorical\n",
    "from keras.utils.vis_utils import plot_model\n",
    "from numpy.random import seed\n",
    "from itertools import chain\n",
    "from tensorflow.keras import Model,Input\n",
    "from tensorflow.keras.layers import LSTM,Embedding,Dense\n",
    "from tensorflow.keras.layers import TimeDistributed, SpatialDropout1D,Bidirectional\n",
    "from sklearn import metrics\n",
    "from keras import backend as K\n",
    "import keras\n",
    "from  tensorflow.keras.callbacks import TensorBoard\n",
    "plt.style.use('seaborn')\n",
    "\n",
    "\n",
    "## As metrices have been removed from Keras from version 2.0, they need to be calculated manually.\n",
    "## Reference : https://datascience.stackexchange.com/questions/45165/how-to-get-accuracy-f1-precision-and-recall-for-a-keras-model\n",
    "\n",
    "def recall_m(y_true, y_pred):\n",
    "    true_positives = K.sum(K.round(K.clip(y_true * y_pred, 0, 1)))\n",
    "    possible_positives = K.sum(K.round(K.clip(y_true, 0, 1)))\n",
    "    recall = true_positives / (possible_positives + K.epsilon())\n",
    "    return recall\n",
    "\n",
    "def precision_m(y_true, y_pred):\n",
    "    true_positives = K.sum(K.round(K.clip(y_true * y_pred, 0, 1)))\n",
    "    predicted_positives = K.sum(K.round(K.clip(y_pred, 0, 1)))\n",
    "    precision = true_positives / (predicted_positives + K.epsilon())\n",
    "    return precision\n",
    "\n",
    "def f1_m(y_true, y_pred):\n",
    "    precision = precision_m(y_true, y_pred)\n",
    "    recall = recall_m(y_true, y_pred)\n",
    "    return 2*((precision*recall)/(precision+recall+K.epsilon()))\n",
    "\n"
   ]
  },
  {
   "cell_type": "code",
   "execution_count": 2,
   "metadata": {},
   "outputs": [
    {
     "name": "stdout",
     "output_type": "stream",
     "text": [
      "   SentenceID              Word      Tag\n",
      "0           1  High-Performance        O\n",
      "1           1          One-Body  B-morph\n",
      "2           1        Core/Shell  B-morph\n",
      "3           1          Nanowire  B-morph\n",
      "4           1    Supercapacitor        O\n",
      "Total number of unique words in dataset: 1550\n",
      "List of tags: B-electrolyte, B-mat, I-val, I-proc, I-morph, B-proc, B-morph, I-mat, I-electrolyte, O, B-val\n",
      "Total Number of tags 11\n"
     ]
    }
   ],
   "source": [
    "# getting the data\n",
    "file = \"../input-datasets/EDLC_ner_dataset_V3.csv\"\n",
    "data = pd.read_csv(file, encoding = \"utf-8\")\n",
    "\n",
    "# drop the docId column, it is not needed\n",
    "data = data.drop('docId', 1)\n",
    "\n",
    "\n",
    "print(data.head())\n",
    "\n",
    "words = list(set(data[\"Word\"].values))\n",
    "words.append(\"ENDPAD\")\n",
    "num_words = len(words)\n",
    "\n",
    "print(f\"Total number of unique words in dataset: {num_words}\")\n",
    "\n",
    "tags = list(set(data[\"Tag\"].values))\n",
    "num_tags = len(tags)\n",
    "num_tags\n",
    "print(\"List of tags: \" + ', '.join([tag for tag in tags]))\n",
    "print(f\"Total Number of tags {num_tags}\")\n",
    "\n"
   ]
  },
  {
   "cell_type": "code",
   "execution_count": 3,
   "metadata": {},
   "outputs": [
    {
     "name": "stdout",
     "output_type": "stream",
     "text": [
      "[('the', 'O'), ('nanowire', 'B-morph'), ('shell', 'O'), ('is', 'O'), ('composed', 'O'), ('of', 'O'), ('2D', 'B-morph'), ('WS2', 'B-mat'), ('with', 'O'), ('subnanometer', 'O'), ('physical', 'O'), ('gaps', 'O'), ('van', 'O'), ('der', 'O'), ('Waals', 'O'), ('gaps', 'O'), ('in', 'O'), ('between', 'O'), ('individual', 'O'), ('2D', 'B-morph'), ('layers', 'O'), ('for', 'O'), ('facile', 'O'), ('ion', 'O'), ('absorption', 'O'), ('from', 'O'), ('electrolytes', 'O')]\n"
     ]
    },
    {
     "data": {
      "image/png": "[encoded data removed]",
      "text/plain": [
       "<Figure size 1008x504 with 1 Axes>"
      ]
     },
     "metadata": {},
     "output_type": "display_data"
    },
    {
     "data": {
      "image/png": "[encoded data removed]",
      "text/plain": [
       "<Figure size 1008x504 with 1 Axes>"
      ]
     },
     "metadata": {},
     "output_type": "display_data"
    }
   ],
   "source": [
    "class Get_sentence(object):\n",
    "    def __init__(self,data):\n",
    "        self.n_sent = 1\n",
    "        self.data = data\n",
    "        agg_func = lambda s:[(w, t) for w, t in zip(s[\"Word\"].values.tolist(),\n",
    "                                                    s[\"Tag\"].values.tolist())]\n",
    "        self.grouped = self.data.groupby(\"SentenceID\").apply(agg_func)\n",
    "        self.sentences = [s for s in self.grouped]\n",
    "        \n",
    "        \n",
    "getter = Get_sentence(data)\n",
    "sentence = getter.sentences\n",
    "print(sentence[10])\n",
    "\n",
    "## Exploratory Data Analysis of the loaded dataset\n",
    "\n",
    "plt.figure(figsize=(14,7))\n",
    "plt.hist([len(s) for s in sentence],bins = 100)\n",
    "plt.xlabel(\"Length of Sentences\")\n",
    "plt.show()\n",
    "\n",
    "plt.figure(figsize=(14, 7))\n",
    "plt.xlabel(\"Number of Tags\")\n",
    "data.Tag[data.Tag != 'O']\\\n",
    "    .value_counts()\\\n",
    "    .plot\\\n",
    "    .barh();\n",
    "\n",
    "\n",
    "\n"
   ]
  },
  {
   "cell_type": "code",
   "execution_count": 4,
   "metadata": {},
   "outputs": [
    {
     "name": "stdout",
     "output_type": "stream",
     "text": [
      "{'B-electrolyte': 0, 'B-mat': 1, 'I-val': 2, 'I-proc': 3, 'I-morph': 4, 'B-proc': 5, 'B-morph': 6, 'I-mat': 7, 'I-electrolyte': 8, 'O': 9, 'B-val': 10}\n"
     ]
    }
   ],
   "source": [
    "word_idx = {w : i + 1 for i ,w in enumerate(words)}\n",
    "tag_idx =  {t : i for i ,t in enumerate(tags)}\n",
    "\n",
    "print(tag_idx)\n",
    "\n",
    "max_len = 60\n",
    "X = [[word_idx[w[0]] for w in s] for s in sentence]\n",
    "X = pad_sequences(maxlen = max_len, sequences = X, padding = 'post', value = num_words - 1)\n",
    "\n",
    "y = [[tag_idx[w[1]] for w in s] for s in sentence]\n",
    "y = pad_sequences(maxlen = max_len, sequences = y, padding = 'post', value = tag_idx['O'])\n",
    "y = [to_categorical(i, num_classes = num_tags) for i in  y]\n",
    "\n",
    "x_train,x_test,y_train,y_test = train_test_split(X, y,test_size = 0.1, random_state = 1)\n"
   ]
  },
  {
   "cell_type": "code",
   "execution_count": 5,
   "metadata": {},
   "outputs": [
    {
     "name": "stdout",
     "output_type": "stream",
     "text": [
      "WARNING:tensorflow:Layer lstm will not use cuDNN kernel since it doesn't meet the cuDNN kernel criteria. It will use generic GPU kernel as fallback when running on GPU\n",
      "WARNING:tensorflow:Layer lstm will not use cuDNN kernel since it doesn't meet the cuDNN kernel criteria. It will use generic GPU kernel as fallback when running on GPU\n",
      "WARNING:tensorflow:Layer lstm will not use cuDNN kernel since it doesn't meet the cuDNN kernel criteria. It will use generic GPU kernel as fallback when running on GPU\n",
      "Model: \"model\"\n",
      "_________________________________________________________________\n",
      "Layer (type)                 Output Shape              Param #   \n",
      "=================================================================\n",
      "input_1 (InputLayer)         [(None, 60)]              0         \n",
      "_________________________________________________________________\n",
      "embedding (Embedding)        (None, 60, 60)            93000     \n",
      "_________________________________________________________________\n",
      "spatial_dropout1d (SpatialDr (None, 60, 60)            0         \n",
      "_________________________________________________________________\n",
      "bidirectional (Bidirectional (None, 60, 2000)          8488000   \n",
      "_________________________________________________________________\n",
      "time_distributed (TimeDistri (None, 60, 11)            22011     \n",
      "=================================================================\n",
      "Total params: 8,603,011\n",
      "Trainable params: 8,603,011\n",
      "Non-trainable params: 0\n",
      "_________________________________________________________________\n"
     ]
    }
   ],
   "source": [
    "input_word = Input(shape = (max_len,))\n",
    "model = Embedding(input_dim = num_words, output_dim = max_len, input_length = max_len)(input_word)\n",
    "model = SpatialDropout1D(0.01)(model)\n",
    "model = Bidirectional(LSTM(units = 1000,return_sequences = True, recurrent_dropout = 0.01))(model)\n",
    "out = TimeDistributed(Dense(num_tags,activation = 'softmax'))(model)\n",
    "model = Model(input_word,out)\n",
    "\n",
    "\n",
    "model.compile(optimizer = 'adam',loss = 'categorical_crossentropy',metrics = ['accuracy',precision_m, recall_m, f1_m])\n",
    "\n",
    "# model.compile(optimizer = 'adam',loss = 'categorical_crossentropy',metrics = ['accuracy'])   ## Main compile phase\n",
    "\n",
    "model.summary()  ## print model summary\n",
    "\n",
    "# plot_model(model, show_shapes = True)\n",
    "\n"
   ]
  },
  {
   "cell_type": "code",
   "execution_count": 9,
   "metadata": {},
   "outputs": [
    {
     "name": "stdout",
     "output_type": "stream",
     "text": [
      "Epoch 1/50\n",
      "10/10 [==============================] - 3s 342ms/step - loss: 0.0408 - accuracy: 0.9890 - precision_m: 0.9949 - recall_m: 0.9805 - f1_m: 0.9877 - val_loss: 0.2592 - val_accuracy: 0.9642 - val_precision_m: 0.9652 - val_recall_m: 0.9538 - val_f1_m: 0.9595\n",
      "Epoch 2/50\n",
      "10/10 [==============================] - 3s 326ms/step - loss: 0.0356 - accuracy: 0.9907 - precision_m: 0.9963 - recall_m: 0.9834 - f1_m: 0.9898 - val_loss: 0.2679 - val_accuracy: 0.9638 - val_precision_m: 0.9638 - val_recall_m: 0.9542 - val_f1_m: 0.9590\n",
      "Epoch 3/50\n",
      "10/10 [==============================] - 3s 325ms/step - loss: 0.0356 - accuracy: 0.9891 - precision_m: 0.9957 - recall_m: 0.9836 - f1_m: 0.9896 - val_loss: 0.2727 - val_accuracy: 0.9654 - val_precision_m: 0.9655 - val_recall_m: 0.9545 - val_f1_m: 0.9600\n",
      "Epoch 4/50\n",
      "10/10 [==============================] - 3s 327ms/step - loss: 0.0319 - accuracy: 0.9904 - precision_m: 0.9959 - recall_m: 0.9851 - f1_m: 0.9905 - val_loss: 0.2830 - val_accuracy: 0.9629 - val_precision_m: 0.9652 - val_recall_m: 0.9545 - val_f1_m: 0.9598\n",
      "Epoch 5/50\n",
      "10/10 [==============================] - 3s 327ms/step - loss: 0.0290 - accuracy: 0.9920 - precision_m: 0.9962 - recall_m: 0.9868 - f1_m: 0.9915 - val_loss: 0.2750 - val_accuracy: 0.9642 - val_precision_m: 0.9649 - val_recall_m: 0.9563 - val_f1_m: 0.9606\n",
      "Epoch 6/50\n",
      "10/10 [==============================] - 3s 326ms/step - loss: 0.0268 - accuracy: 0.9937 - precision_m: 0.9970 - recall_m: 0.9883 - f1_m: 0.9926 - val_loss: 0.2877 - val_accuracy: 0.9633 - val_precision_m: 0.9648 - val_recall_m: 0.9542 - val_f1_m: 0.9595\n",
      "Epoch 7/50\n",
      "10/10 [==============================] - 3s 327ms/step - loss: 0.0249 - accuracy: 0.9933 - precision_m: 0.9965 - recall_m: 0.9895 - f1_m: 0.9930 - val_loss: 0.2844 - val_accuracy: 0.9642 - val_precision_m: 0.9650 - val_recall_m: 0.9566 - val_f1_m: 0.9608\n",
      "Epoch 8/50\n",
      "10/10 [==============================] - 3s 326ms/step - loss: 0.0276 - accuracy: 0.9933 - precision_m: 0.9958 - recall_m: 0.9889 - f1_m: 0.9923 - val_loss: 0.2839 - val_accuracy: 0.9613 - val_precision_m: 0.9635 - val_recall_m: 0.9542 - val_f1_m: 0.9588\n",
      "Epoch 9/50\n",
      "10/10 [==============================] - 3s 327ms/step - loss: 0.0274 - accuracy: 0.9931 - precision_m: 0.9961 - recall_m: 0.9896 - f1_m: 0.9928 - val_loss: 0.2827 - val_accuracy: 0.9650 - val_precision_m: 0.9650 - val_recall_m: 0.9569 - val_f1_m: 0.9609\n",
      "Epoch 10/50\n",
      "10/10 [==============================] - 3s 326ms/step - loss: 0.0220 - accuracy: 0.9948 - precision_m: 0.9976 - recall_m: 0.9906 - f1_m: 0.9941 - val_loss: 0.2834 - val_accuracy: 0.9642 - val_precision_m: 0.9653 - val_recall_m: 0.9569 - val_f1_m: 0.9611\n",
      "Epoch 11/50\n",
      "10/10 [==============================] - 3s 326ms/step - loss: 0.0211 - accuracy: 0.9939 - precision_m: 0.9968 - recall_m: 0.9920 - f1_m: 0.9944 - val_loss: 0.3077 - val_accuracy: 0.9646 - val_precision_m: 0.9640 - val_recall_m: 0.9583 - val_f1_m: 0.9612\n",
      "Epoch 12/50\n",
      "10/10 [==============================] - 3s 326ms/step - loss: 0.0187 - accuracy: 0.9956 - precision_m: 0.9971 - recall_m: 0.9926 - f1_m: 0.9948 - val_loss: 0.2742 - val_accuracy: 0.9625 - val_precision_m: 0.9625 - val_recall_m: 0.9535 - val_f1_m: 0.9580\n",
      "Epoch 13/50\n",
      "10/10 [==============================] - 3s 326ms/step - loss: 0.0308 - accuracy: 0.9905 - precision_m: 0.9947 - recall_m: 0.9871 - f1_m: 0.9909 - val_loss: 0.2829 - val_accuracy: 0.9667 - val_precision_m: 0.9664 - val_recall_m: 0.9601 - val_f1_m: 0.9632\n",
      "Epoch 14/50\n",
      "10/10 [==============================] - 3s 326ms/step - loss: 0.0209 - accuracy: 0.9951 - precision_m: 0.9975 - recall_m: 0.9916 - f1_m: 0.9945 - val_loss: 0.2925 - val_accuracy: 0.9667 - val_precision_m: 0.9661 - val_recall_m: 0.9608 - val_f1_m: 0.9634\n",
      "Epoch 15/50\n",
      "10/10 [==============================] - 3s 327ms/step - loss: 0.0187 - accuracy: 0.9958 - precision_m: 0.9973 - recall_m: 0.9926 - f1_m: 0.9949 - val_loss: 0.2814 - val_accuracy: 0.9658 - val_precision_m: 0.9651 - val_recall_m: 0.9604 - val_f1_m: 0.9628\n",
      "Epoch 16/50\n",
      "10/10 [==============================] - 3s 325ms/step - loss: 0.0174 - accuracy: 0.9954 - precision_m: 0.9971 - recall_m: 0.9925 - f1_m: 0.9948 - val_loss: 0.2771 - val_accuracy: 0.9646 - val_precision_m: 0.9660 - val_recall_m: 0.9566 - val_f1_m: 0.9613\n",
      "Epoch 00016: early stopping\n",
      "Model Evaluation \n",
      "===========================\n",
      "\n",
      "1/1 [==============================] - 0s 1ms/step - loss: 0.2230 - accuracy: 0.9674 - precision_m: 0.9743 - recall_m: 0.9630 - f1_m: 0.9687\n",
      "Word                True                \tPred\n",
      "\n",
      "-------------------------------------------------------\n",
      "At                  O                   \tO\n",
      "cell                O                   \tO\n",
      "voltages            O                   \tO\n",
      "above               O                   \tO\n",
      "3.5                 B-val               \tB-val\n",
      "V                   I-val               \tI-val\n",
      "also                O                   \tO\n",
      "the                 O                   \tO\n",
      "negative            O                   \tO\n",
      "electrode           O                   \tO\n",
      "aged                O                   \tO\n",
      "significantly       O                   \tO\n",
      "thus                O                   \tO\n",
      "thus                O                   \tO\n",
      "thus                O                   \tO\n",
      "thus                O                   \tO\n",
      "thus                O                   \tO\n",
      "thus                O                   \tO\n",
      "thus                O                   \tO\n",
      "thus                O                   \tO\n",
      "thus                O                   \tO\n",
      "thus                O                   \tO\n",
      "thus                O                   \tO\n",
      "thus                O                   \tO\n",
      "thus                O                   \tO\n",
      "thus                O                   \tO\n",
      "thus                O                   \tO\n",
      "thus                O                   \tO\n",
      "thus                O                   \tO\n",
      "thus                O                   \tO\n",
      "thus                O                   \tO\n",
      "thus                O                   \tO\n",
      "thus                O                   \tO\n",
      "thus                O                   \tO\n",
      "thus                O                   \tO\n",
      "thus                O                   \tO\n",
      "thus                O                   \tO\n",
      "thus                O                   \tO\n",
      "thus                O                   \tO\n",
      "thus                O                   \tO\n",
      "thus                O                   \tO\n",
      "thus                O                   \tO\n",
      "thus                O                   \tO\n",
      "thus                O                   \tO\n",
      "thus                O                   \tO\n",
      "thus                O                   \tO\n",
      "thus                O                   \tO\n",
      "thus                O                   \tO\n",
      "thus                O                   \tO\n",
      "thus                O                   \tO\n",
      "thus                O                   \tO\n",
      "thus                O                   \tO\n",
      "thus                O                   \tO\n",
      "thus                O                   \tO\n",
      "thus                O                   \tO\n",
      "thus                O                   \tO\n",
      "thus                O                   \tO\n",
      "thus                O                   \tO\n",
      "thus                O                   \tO\n",
      "thus                O                   \tO\n"
     ]
    }
   ],
   "source": [
    "# model.fit(x_train, np.array(y_train), batch_size = 16, verbose = 1, epochs = 50, validation_split = 0.2)\n",
    "from keras.callbacks import EarlyStopping\n",
    "es = EarlyStopping(monitor='val_loss', mode='min', verbose=1, patience=15)\n",
    "\n",
    "tensorboard_cbk = TensorBoard(log_dir=\"logs/\")\n",
    "\n",
    "history = model.fit(x_train, np.array(y_train), batch_size = 16, verbose = 1, epochs = 50, validation_split = 0.2,callbacks=[tensorboard_cbk,es])\n",
    "\n",
    "\n",
    "print(\"Model Evaluation \\n===========================\\n\")\n",
    "model.evaluate(x_test, np.array(y_test))\n",
    "\n",
    "rand_sent = np.random.randint(0, x_test.shape[0]) # get a random sentence\n",
    "p = model.predict(np.array([x_test[rand_sent]]))\n",
    "p = np.argmax(p, axis = -1)\n",
    "\n",
    "y_true = np.argmax(np.array(y_test), axis = -1)[rand_sent] # get actual tags for random sentense\n",
    "\n",
    "print(\"{:20}{:20}\\t{}\\n\".format(\"Word\", \"True\", \"Pred\"))\n",
    "print(\"-\" * 55)\n",
    "\n",
    "for (w, t, pred) in zip(x_test[rand_sent], y_true, p[0]):\n",
    "    print(\"{:20}{:20}\\t{}\".format(words[w - 1], tags[t], tags[pred]))\n",
    "    \n",
    "\n",
    "# y_pred = model.predict(x_test, batch_size=64, verbose=1)\n",
    "# y_pred_bool = np.argmax(y_pred, axis=1)\n",
    "\n",
    "# print(metrics.classification_report(y_test,y_pred))\n"
   ]
  },
  {
   "cell_type": "code",
   "execution_count": 10,
   "metadata": {},
   "outputs": [
    {
     "data": {
      "image/png": "[encoded data removed]",
      "text/plain": [
       "<Figure size 576x360 with 1 Axes>"
      ]
     },
     "metadata": {},
     "output_type": "display_data"
    },
    {
     "data": {
      "image/png": "[encoded data removed]",
      "text/plain": [
       "<Figure size 432x288 with 1 Axes>"
      ]
     },
     "metadata": {},
     "output_type": "display_data"
    },
    {
     "data": {
      "image/png": "[encoded data removed]",
      "text/plain": [
       "<Figure size 432x288 with 1 Axes>"
      ]
     },
     "metadata": {},
     "output_type": "display_data"
    }
   ],
   "source": [
    "## Plotting all the metrices in a single figure\n",
    "pd.DataFrame(history.history).plot(figsize=(8,5))\n",
    "plt.show()\n",
    "\n",
    "# summarize history for accuracy\n",
    "plt.plot(history.history['accuracy'])\n",
    "plt.plot(history.history['val_accuracy'])\n",
    "plt.title('model accuracy')\n",
    "plt.ylabel('accuracy')\n",
    "plt.xlabel('epoch')\n",
    "plt.legend(['train', 'test'], loc='upper left')\n",
    "plt.show()\n",
    "\n",
    "# summarize history for loss\n",
    "plt.plot(history.history['loss'])\n",
    "plt.plot(history.history['val_loss'])\n",
    "plt.title('model loss')\n",
    "plt.ylabel('loss')\n",
    "plt.xlabel('epoch')\n",
    "plt.legend(['train', 'test'], loc='upper left')\n",
    "plt.show()\n",
    "\n",
    "\n",
    "\n",
    "###########################################################################################################\n",
    "#                                        Saving and loading model                                         #\n",
    "###########################################################################################################\n",
    "## Reference : https://stackoverflow.com/questions/33759623/tensorflow-how-to-save-restore-a-model\n",
    "\n",
    "### As model can not be restored with custom metrices, hence only accuracy and loss is there and compiled the model again\n",
    "### Then fit the model and save the model\n",
    "\n",
    "# model.compile(optimizer = 'adam',loss = 'categorical_crossentropy',metrics = ['accuracy'])\n",
    "\n",
    "# model.fit(x_train, np.array(y_train), batch_size = 16, verbose = 1, epochs = 3, validation_split = 0.2)\n",
    "\n",
    "# model.evaluate(x_test, np.array(y_test))\n",
    "\n",
    "\n",
    "# ## Save model\n",
    "# model.save('DeepLearningKerasTf_NER_Model.h5')\n",
    "\n",
    "\n",
    "###########################################################################################################\n",
    "#                                        Restoring a Saved model                                          #\n",
    "###########################################################################################################\n",
    "\n",
    "## restoring model and checking model\n",
    "## Currently model restoration feature is off. to load the model just uncomment the following lines and provide saved model name\n",
    "\n",
    "\n",
    "# new_model = keras.models.load_model('DeepLearningKerasTf_NER_Model.h5')\n",
    "# print(\"Loaded Model Evaluation \\n===========================\\n\")\n",
    "# new_model.evaluate(x_test, np.array(y_test))"
   ]
  },
  {
   "cell_type": "code",
   "execution_count": 11,
   "metadata": {},
   "outputs": [
    {
     "name": "stdout",
     "output_type": "stream",
     "text": [
      "Word                \tPrediction\n",
      "\n",
      "-----------------------------------\n",
      "Hierarchical        \tB-mat\n",
      "Porous              \tI-mat\n",
      "Nitrogen-Doped      \tB-mat\n",
      "Carbon              \tB-mat\n",
      "Nanosheets          \tO\n",
      "Derived             \tO\n",
      "from                \tO\n",
      "Silk                \tO\n",
      "for                 \tO\n",
      "Ultrahigh-Capacity  \tO\n",
      "Battery             \tO\n",
      "Anodes              \tO\n",
      "and                 \tO\n",
      "Supercapacitors     \tO\n",
      "Word                \tPrediction\n",
      "\n",
      "-----------------------------------\n",
      "Li                  \tB-mat\n",
      "metal               \tO\n",
      "foil                \tO\n",
      "as                  \tO\n",
      "the                 \tO\n",
      "counter             \tO\n",
      "electrode           \tO\n",
      "and                 \tO\n",
      "1                   \tB-val\n",
      "M                   \tI-val\n",
      "LiPF6               \tI-val\n",
      "solution            \tO\n",
      "with                \tO\n",
      "ethylene            \tB-electrolyte\n",
      "carbonate-dimethyl  \tI-val\n",
      "carbonate           \tI-electrolyte\n",
      "as                  \tO\n",
      "the                 \tB-val\n",
      "electrolyte         \tB-val\n"
     ]
    }
   ],
   "source": [
    "def create_test_input_from_text(text):\n",
    "    word_list = text.split(\" \")\n",
    "    x_new = []\n",
    "    for word in word_list:\n",
    "        x_new.append(word_idx[word])\n",
    "        \n",
    "    p = model.predict(np.array([x_new]))\n",
    "    p = np.argmax(p, axis = -1)\n",
    "    print(\"{:20}\\t{}\\n\".format(\"Word\", \"Prediction\"))\n",
    "    print(\"-\" * 35)\n",
    "\n",
    "    for (w, pred) in zip(range(len(x_new)), p[0]):\n",
    "        print(\"{:20}\\t{}\".format(word_list[w], tags[pred]))\n",
    "\n",
    "test_inputs = \"Hierarchical Porous Nitrogen-Doped Carbon Nanosheets Derived from Silk for Ultrahigh-Capacity Battery Anodes and Supercapacitors\"\n",
    "create_test_input_from_text(test_inputs)\n",
    "\n",
    "test_inputs = \"Li metal foil as the counter electrode and 1 M LiPF6 solution with ethylene carbonate-dimethyl carbonate as the electrolyte\"\n",
    "create_test_input_from_text(test_inputs)"
   ]
  },
  {
   "cell_type": "code",
   "execution_count": null,
   "metadata": {},
   "outputs": [],
   "source": []
  }
 ],
 "metadata": {
  "kernelspec": {
   "display_name": "Python 3",
   "language": "python",
   "name": "python3"
  },
  "language_info": {
   "codemirror_mode": {
    "name": "ipython",
    "version": 3
   },
   "file_extension": ".py",
   "mimetype": "text/x-python",
   "name": "python",
   "nbconvert_exporter": "python",
   "pygments_lexer": "ipython3",
   "version": "3.6.5"
  }
 },
 "nbformat": 4,
 "nbformat_minor": 4
}
